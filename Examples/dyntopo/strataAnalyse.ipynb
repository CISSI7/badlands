{
 "cells": [
  {
   "cell_type": "markdown",
   "metadata": {},
   "source": [
    "# Analyse pyBadlands stratigraphic output\n",
    "\n",
    "If the stratigraphic structure is turned on in the XmL input file, **pyBadlands** produces sedimentary layers Hdf5 files. The stratigraphic layers are defined on a regularly spaced grid and a layer is recorded at each layer time interval given by the user.\n",
    "\n",
    "Here we show how we can visualise quickly the structure of the stratigraphic layer in an IPython notebook."
   ]
  },
  {
   "cell_type": "code",
   "execution_count": null,
   "metadata": {
    "collapsed": false
   },
   "outputs": [],
   "source": [
    "import numpy as np\n",
    "import matplotlib.mlab as ml\n",
    "import matplotlib.pyplot as plt\n",
    "import scipy.ndimage.filters as filters\n",
    "from scipy.interpolate import RectBivariateSpline\n",
    "from scipy.ndimage.filters import gaussian_filter\n",
    "\n",
    "import pybadlands_companion.stratalAnalyse_DT as strata\n",
    "\n",
    "# display plots in SVG format\n",
    "%config InlineBackend.figure_format = 'svg'\n",
    "%matplotlib inline"
   ]
  },
  {
   "cell_type": "markdown",
   "metadata": {},
   "source": [
    "# Loading stratigraphic file\n",
    "\n",
    "First we need to load the stratigraphic file. The files are located in the **h5/** folder in the simulation main output folder and are named using the following convention:\n",
    "- `sed.region`ID`.time`T`.p`X`.hdf5`\n",
    "\n",
    "with ID the region index, T the display time index and X the number of the partition (used in the parallel version). In cases where you ran your simulation in parallel you will also need to give the number of CPUs used (_cpus_).\n",
    "\n",
    "To load a file you will need to give the folder name and the number of processors used in your simulation.\n",
    "\n",
    "For more information regarding the function uncomment the following line."
   ]
  },
  {
   "cell_type": "code",
   "execution_count": null,
   "metadata": {
    "collapsed": false
   },
   "outputs": [],
   "source": [
    "# help(strata.stratalSection.__init__)"
   ]
  },
  {
   "cell_type": "code",
   "execution_count": null,
   "metadata": {
    "collapsed": false
   },
   "outputs": [],
   "source": [
    "folder = '/workspace/volume/LEM/DynTopo/outputX/h5/'\n",
    "strat = strata.stratalSection(folder)"
   ]
  },
  {
   "cell_type": "markdown",
   "metadata": {},
   "source": [
    "Then we need to load a particular output time interval (this is the T parameter in the hdf5 file name convention).\n",
    "\n",
    "**Note**\n",
    "\n",
    "This number is not always the number of sedimentary layers for this particular time step as you could have chosen in the input file to have more than 1 sedimentary layer recorded by output interval!"
   ]
  },
  {
   "cell_type": "code",
   "execution_count": null,
   "metadata": {
    "collapsed": true
   },
   "outputs": [],
   "source": [
    "# help(strat.loadStratigraphy)"
   ]
  },
  {
   "cell_type": "code",
   "execution_count": null,
   "metadata": {
    "collapsed": false
   },
   "outputs": [],
   "source": [
    "strat.loadStratigraphy(100) "
   ]
  },
  {
   "cell_type": "markdown",
   "metadata": {},
   "source": [
    "# Building a cross-section\n",
    "\n",
    "We then slice the stratigraphic mesh to visualise the sedimentary architecture along a given cross-section.\n",
    "\n",
    "To create the cross-section you will need to provide the position of the segment in the simulation space _(xo,yo)_ and _(xm,ym)_, a gaussian filter value for smoothing (_gfilt_ a value of 0 can be used for non-smoothing) and the resolution of the cross-section (based on a number of points: _nbpts_). "
   ]
  },
  {
   "cell_type": "code",
   "execution_count": null,
   "metadata": {
    "collapsed": true
   },
   "outputs": [],
   "source": [
    "# Build a cross-section along X axis\n",
    "x1 = 0.\n",
    "x2 = 300000.\n",
    "y1 = 100000\n",
    "y2 = 100000\n",
    "\n",
    "# Interpolation parameters\n",
    "nbpts = 301\n",
    "gfilt = 1"
   ]
  },
  {
   "cell_type": "code",
   "execution_count": null,
   "metadata": {
    "collapsed": false
   },
   "outputs": [],
   "source": [
    "# help(strat.buildSection)"
   ]
  },
  {
   "cell_type": "code",
   "execution_count": null,
   "metadata": {
    "collapsed": false
   },
   "outputs": [],
   "source": [
    "strat.buildSection(xo = x1, yo = y1, xm = x2, ym = y2, pts = nbpts, gfilter = gfilt)"
   ]
  },
  {
   "cell_type": "markdown",
   "metadata": {},
   "source": [
    "# Stratal stacking pattern\n",
    "\n",
    "We use **plotly** to visualise the vertival cross-section of stratal stacking apttern."
   ]
  },
  {
   "cell_type": "code",
   "execution_count": null,
   "metadata": {
    "collapsed": true
   },
   "outputs": [],
   "source": [
    "#help(strata.viewSection)"
   ]
  },
  {
   "cell_type": "code",
   "execution_count": null,
   "metadata": {
    "collapsed": false
   },
   "outputs": [],
   "source": [
    "strata.viewSection(width = 800, height = 500, cs = strat, \n",
    "            dnlay = 2, rangeX=[220000, 300000], rangeY=[-1050,-50],\n",
    "            linesize = 0.5, title='Stratal stacking pattern coloured by time')"
   ]
  },
  {
   "cell_type": "markdown",
   "metadata": {},
   "source": [
    "# Interpretation of Systems Tracts\n",
    "\n",
    "New analytical methods are proposed in recent years on the interpretation of depositional systems. Here, we apply three methods, including **(i) the original method** in which the definitation of systems tracts is based on relative sea-level change; **(ii) the shoreline trajectory analysis** which classifies different trajectory classes according to the migration of shoreline; **(iii) the accommodation sucession method** that focuses on the objective observation of depositional trends and then defines different sequence sets reponding to the competing ration between the change of accommodation and sediment supply."
   ]
  },
  {
   "cell_type": "markdown",
   "metadata": {},
   "source": [
    "## (1) Based on relative sea-level\n",
    "\n",
    "There are several models of systems tracts within depositional sequences, here we use the most simple one called the four systems tract model (figure is from [Helland-Hansen & Hampson (2009)](http://onlinelibrary.wiley.com/wol1/doi/10.1111/j.1365-2117.2009.00425.x/full)): <img src=\"images/SystemsTract_RSL.png\" alt=\"Systems tract defined based on relative sea-level\"  width=\"300\" height=\"300\" border=\"10\" />\n",
    "- highstand systems tract **HST** \n",
    "- falling-stage systems tract **FSST**\n",
    "- lowstand systems tract **LST**\n",
    "- transgressive systems tract **TST**\n",
    "\n",
    "For each of these system tracts we define a given color. We use the 'colorlover' library [link](http://moderndata.plot.ly/color-scales-in-ipython-notebook/)"
   ]
  },
  {
   "cell_type": "markdown",
   "metadata": {},
   "source": [
    "We first visualize the sea-level surve, and then extract the time points that bound different systems tracts, as showed in the above figure."
   ]
  },
  {
   "cell_type": "code",
   "execution_count": null,
   "metadata": {
    "collapsed": false
   },
   "outputs": [],
   "source": [
    "time, Sealevel = strata.readSea('/workspace/volume/LEM/DynTopo/data/sealevel.csv')\n",
    "timeStep = 1e5\n",
    "# Plot sea-level\n",
    "strata.viewData(x0 = time/timeStep, y0 = Sealevel, width = 600, height = 400, linesize = 3, color = '#6666FF')"
   ]
  },
  {
   "cell_type": "code",
   "execution_count": null,
   "metadata": {
    "collapsed": false
   },
   "outputs": [],
   "source": [
    "# Define different colors for different systems tracts\n",
    "cHST = 'rgba(213,139,214,0.8)' \n",
    "cFSST = 'rgba(215,171,117,0.8)' \n",
    "cLST = 'rgba(39,123,70,0.8)' \n",
    "cTST = 'rgba(82,128,233,0.8)' \n",
    "# Specify the extent of every systems tract according to the figure above\n",
    "HST1 = np.array([0,11],dtype=int)\n",
    "FSST1 = np.array([11,26],dtype=int)\n",
    "LST1 = np.array([26,30],dtype=int)\n",
    "TST1 = np.array([30,36],dtype=int)\n",
    "HST2 = np.array([36,42],dtype=int)\n",
    "FSST2 = np.array([42,69],dtype=int)\n",
    "LST2 = np.array([69,78],dtype=int)\n",
    "TST2 = np.array([78,88],dtype=int)\n",
    "HST3 = np.array([88,100],dtype=int)\n",
    "# Build the color list\n",
    "STcolors = []\n",
    "for k in range(HST1[0],HST1[1]):\n",
    "    STcolors.append(cHST)\n",
    "for k in range(FSST1[0],FSST1[1]):\n",
    "    STcolors.append(cFSST)\n",
    "for k in range(LST1[0],LST1[1]):\n",
    "    STcolors.append(cLST)\n",
    "for k in range(TST1[0],TST1[1]):\n",
    "    STcolors.append(cTST)\n",
    "for k in range(HST2[0],HST2[1]):\n",
    "    STcolors.append(cHST)\n",
    "for k in range(FSST2[0],FSST2[1]):\n",
    "    STcolors.append(cFSST)\n",
    "for k in range(LST2[0],LST2[1]):\n",
    "    STcolors.append(cLST)\n",
    "for k in range(TST2[0],TST2[1]):\n",
    "    STcolors.append(cTST)\n",
    "for k in range(HST3[0],HST3[1]):\n",
    "    STcolors.append(cHST)"
   ]
  },
  {
   "cell_type": "code",
   "execution_count": null,
   "metadata": {
    "collapsed": false
   },
   "outputs": [],
   "source": [
    "# help(strata.viewSectionST)"
   ]
  },
  {
   "cell_type": "code",
   "execution_count": null,
   "metadata": {
    "collapsed": false
   },
   "outputs": [],
   "source": [
    "strata.viewSectionST(width = 800, height = 500, cs=strat, colors=STcolors,\n",
    "                   dnlay = 2, rangeX=[220000, 300000], rangeY=[-1050,-50], \n",
    "                   linesize=0.5, title='Systems tract interpreted based on relative sea-level (RSL)')"
   ]
  },
  {
   "cell_type": "markdown",
   "metadata": {},
   "source": [
    "Before doing the interpretation using another two methods, we need to calculate the shoreline positions (shoreline trajectory), the accommodation change ($\\delta A$) and sedimentation change ($\\delta S$) at shoreline position through time. The endpoint of every deposited layer is also calculated to plot the Wheeler Diagram.\n",
    "\n",
    "In order to calculate the shoreline trajectory, $\\delta A$ and $\\delta S$ at the shoreline, we need the information of the sediemntary layers when they deposited. In this example, totally 100 outputs are obtained. We use a loop to read the output every two timesetps. "
   ]
  },
  {
   "cell_type": "code",
   "execution_count": null,
   "metadata": {
    "collapsed": true
   },
   "outputs": [],
   "source": [
    "nbout = 51  # number of output file\n",
    "folder = '/workspace/volume/LEM/DynTopo/outputX/h5/'"
   ]
  },
  {
   "cell_type": "markdown",
   "metadata": {},
   "source": [
    "The `sed.time`T`.p`X`.hdf5` file starts from time1. Therefore, the first file we load is T=1, then followed by T=2, 4, 6, 8, ..., 100"
   ]
  },
  {
   "cell_type": "code",
   "execution_count": null,
   "metadata": {
    "collapsed": false
   },
   "outputs": [],
   "source": [
    "strat_all = [strata.stratalSection(folder)]\n",
    "strat_all[0].loadStratigraphy(1)\n",
    "for i in range(1,nbout):\n",
    "    strat = strata.stratalSection(folder)\n",
    "    strat_all.append(strat)\n",
    "    strat_all[i].loadStratigraphy(i*2)"
   ]
  },
  {
   "cell_type": "markdown",
   "metadata": {},
   "source": [
    "# Building cross-sections\n",
    "\n",
    "We then slice the stratigraphic mesh to visualise the sedimentary architecture along a given cross-section.\n",
    "\n",
    "To create the cross-section you will need to provide the position of the segment in the simulation space _(xo,yo)_ and _(xm,ym)_, a gaussian filter value for smoothing (_gfilt_ a value of 0 can be used for non-smoothing) and the resolution of the cross-section (based on a number of points: _nbpts_). "
   ]
  },
  {
   "cell_type": "code",
   "execution_count": null,
   "metadata": {
    "collapsed": true
   },
   "outputs": [],
   "source": [
    "# Build a cross-section along X axis\n",
    "x1 = 0.\n",
    "x2 = 300000.\n",
    "y1 = 100000\n",
    "y2 = 100000\n",
    "\n",
    "# Interpolation parameters\n",
    "nbpts = 301\n",
    "gfilt = 1"
   ]
  },
  {
   "cell_type": "code",
   "execution_count": null,
   "metadata": {
    "collapsed": true
   },
   "outputs": [],
   "source": [
    "# For multi-outputs\n",
    "for i in range(0,nbout):\n",
    "    strat_all[i].buildSection(xo = x1, yo = y1, xm = x2, ym = y2, pts = nbpts, gfilter = gfilt)"
   ]
  },
  {
   "cell_type": "code",
   "execution_count": null,
   "metadata": {
    "collapsed": false
   },
   "outputs": [],
   "source": [
    "# Read sea-level file\n",
    "time, sealevel = strata.readSea('/workspace/volume/LEM/DynTopo/data/sealevel.csv')\n",
    "# Extract the value of sea-level at each extracted stratigraphic layer\n",
    "dt = 2 # the number of timesteps to read the sed.region'ID'.time'T'.p'X'.hdf5 file\n",
    "Time = np.array(time[::dt])\n",
    "Sealevel = np.array(sealevel[::dt])\n",
    "# Plot sea-level\n",
    "strata.viewData(x0 = Time, y0 = Sealevel, width = 600, height = 400, linesize = 3, color = '#6666FF')"
   ]
  },
  {
   "cell_type": "code",
   "execution_count": null,
   "metadata": {
    "collapsed": true
   },
   "outputs": [],
   "source": [
    "def buildShoreline(cs = None, cs_b = None, sealevel = None, sealevel_b = None):\n",
    "    shoreID = np.amax(np.where(cs.secDep[cs.nz-1]>=sealevel)[0])\n",
    "    shoreElev = cs.secDep[cs.nz-1][shoreID]\n",
    "    shoreID_b = np.amax(np.where(cs_b.secDep[cs_b.nz-1]>=sealevel_b)[0])\n",
    "    accom = sealevel - cs.secDep[cs_b.nz-1][shoreID_b]\n",
    "    sed = cs.secDep[cs.nz-1][shoreID_b] - cs.secDep[cs_b.nz-1][shoreID_b]\n",
    "    depoend = np.amax(np.where(cs.secTh[cs.nz-1][shoreID:len(cs.secTh[0])]>0.001)[0]) + shoreID\n",
    "    sedflux = 0.\n",
    "    for i in range(cs_b.nz-1,cs.nz):\n",
    "        sedflux = sedflux + sum(cs.secTh[i][shoreID:,])\n",
    "            \n",
    "    return shoreID, shoreElev, accom, sed, depoend, sedflux"
   ]
  },
  {
   "cell_type": "code",
   "execution_count": null,
   "metadata": {
    "collapsed": false
   },
   "outputs": [],
   "source": [
    "# Calculate the shoreline trajectory\n",
    "shoreID = np.zeros(nbout)\n",
    "shoreElev = np.zeros(nbout)\n",
    "accom_shore = np.zeros(nbout)\n",
    "sed_shore = np.zeros(nbout)\n",
    "depoend = np.zeros(nbout)\n",
    "sedflux = np.zeros(nbout)\n",
    "# \n",
    "shoreID[0], shoreElev[0], accom_shore[0], sed_shore[0], depoend[0], sedflux[0] = buildShoreline(cs = strat_all[0], cs_b = strat_all[0], sealevel = Sealevel[0], sealevel_b = Sealevel[0])\n",
    "for i in range(1,nbout):\n",
    "    shoreID[i], shoreElev[i], accom_shore[i], sed_shore[i], depoend[i], sedflux[i] = buildShoreline(cs = strat_all[i], cs_b = strat_all[i-1], sealevel = Sealevel[i], sealevel_b = Sealevel[i-1])"
   ]
  },
  {
   "cell_type": "code",
   "execution_count": null,
   "metadata": {
    "collapsed": false
   },
   "outputs": [],
   "source": [
    "# Gaussian smooth\n",
    "shoreID_gs = filters.gaussian_filter1d(shoreID,sigma=1)\n",
    "shoreElev_gs = filters.gaussian_filter1d(shoreElev,sigma=1)\n",
    "accom_gs = filters.gaussian_filter1d(accom_shore,sigma=1)\n",
    "sed_gs = filters.gaussian_filter1d(sed_shore,sigma=1)\n",
    "depoend_gs = filters.gaussian_filter1d(depoend,sigma=1)\n",
    "sedflux_gs = filters.gaussian_filter1d(sedflux,sigma=1)"
   ]
  },
  {
   "cell_type": "markdown",
   "metadata": {},
   "source": [
    "## (2) Based on shoreline trajectory\n",
    "\n",
    "Here is another way to interpret the depositional units based on the shifts of shoreline (from [Helland-Hansen & Hampson (2009)](http://onlinelibrary.wiley.com/wol1/doi/10.1111/j.1365-2117.2009.00425.x/full)):\n",
    "<img src=\"images/SystemsTract_TC.png\" alt=\"Systems tract defined based on shoreline trajectory\"  width=\"400\" height=\"400\" border=\"10\" />\n",
    "\n",
    "- Transgressive trajectory class ** TTC **, when shoreline landward shift\n",
    "- Descending regressive trajectory class ** DRTC **, when shoreline basinward shift accompanied by aggradation\n",
    "- Ascending regressive trajectory class ** ARTC **, when shoreline basinward shift accompanied by degradation\n",
    "- Stationary trajectory class **STC**, when the shoreline stands still"
   ]
  },
  {
   "cell_type": "code",
   "execution_count": null,
   "metadata": {
    "collapsed": false
   },
   "outputs": [],
   "source": [
    "# Visualize the shoreline trajectory\n",
    "strata.viewData(x0 = Time/timeStep, y0 = shoreID, width = 600, height = 400, linesize = 3, color = '#6666FF')\n",
    "# Smoothed shoreline trajectory\n",
    "strata.viewData(x0 = Time/timeStep, y0 = shoreID_gs, width = 600, height = 400, linesize = 3, color = '#6666FF')"
   ]
  },
  {
   "cell_type": "code",
   "execution_count": null,
   "metadata": {
    "collapsed": false
   },
   "outputs": [],
   "source": [
    "# Define different colors for different trajectory classes\n",
    "cTC = 'rgba(56,110,164,0.8)' \n",
    "cDRC = 'rgba(60,165,67,0.8)'  \n",
    "cSTC = 'rgba(246,146,80,0.8)'\n",
    "# Specify the extent of every trajectory class according to the figure above\n",
    "TC1 = np.array([0,10],dtype=int)  # when shoreline landward shift\n",
    "DRC1 = np.array([10,26],dtype=int)  # when shoreline seaward shift\n",
    "TC2 = np.array([26,42],dtype=int)\n",
    "DRC2 = np.array([42,60],dtype=int)\n",
    "STC1 = np.array([60,76],dtype=int)\n",
    "TC3 = np.array([76,100],dtype=int)\n",
    "# Build the color list\n",
    "STcolors_ST = []\n",
    "for k in range(TC1[0],TC1[1]):\n",
    "    STcolors_ST.append(cTC)\n",
    "for k in range(DRC1[0],DRC1[1]):\n",
    "    STcolors_ST.append(cDRC)\n",
    "for k in range(TC2[0],TC2[1]):\n",
    "    STcolors_ST.append(cTC)\n",
    "for k in range(DRC2[0],DRC2[1]):\n",
    "    STcolors_ST.append(cDRC)\n",
    "for k in range(STC1[0],STC1[1]):\n",
    "    STcolors_ST.append(cSTC)\n",
    "for k in range(TC3[0],TC3[1]):\n",
    "    STcolors_ST.append(cTC)"
   ]
  },
  {
   "cell_type": "code",
   "execution_count": null,
   "metadata": {
    "collapsed": false
   },
   "outputs": [],
   "source": [
    "strata.viewSectionST(width = 800, height = 500, cs = strat, colors = STcolors_ST, \n",
    "                     dnlay = 2, rangeX=[220000, 300000], rangeY=[-1050,-50], \n",
    "                     linesize = 0.5, title = 'Systems tract interpreted based on shoreline trajectory (ST)')"
   ]
  },
  {
   "cell_type": "markdown",
   "metadata": {},
   "source": [
    "## (3) Based on the change of accommodation & sedimentation\n",
    "\n",
    "This accommodation succession method is referred to [Neal & Abreu (2009)]((https://www.researchgate.net/publication/249521744_Sequence_stratigraphy_hierarchy_and_the_accommodation_succession_method)), which is based on the relationship between the rate of changes in accommodation and sedimentation. \n",
    "<img src=\"images/SystemsTract_AS.png\" alt=\"Systems tract defined based on shoreline trajectory\"  width=\"600\" height=\"400\" border=\"10\" />\n",
    "\n",
    "- Retrogradation sequence set ** RSS **\n",
    "- Aggradation to Progradation (maybe) to Degradation sequence set ** APDSS **\n",
    "- Pragradation to Aggradation sequence set ** PASS **"
   ]
  },
  {
   "cell_type": "code",
   "execution_count": null,
   "metadata": {
    "collapsed": false
   },
   "outputs": [],
   "source": [
    "# Visualize the difference between the change of accommodation (A) and that of sedimentation (S): A-S\n",
    "strata.viewData(x0 = Time/timeStep, y0 = accom_gs-sed_gs, width = 600, height = 400, linesize = 3, color = '#6666FF')"
   ]
  },
  {
   "cell_type": "code",
   "execution_count": null,
   "metadata": {
    "collapsed": true
   },
   "outputs": [],
   "source": [
    "# Define different colors for different sequence sets\n",
    "cR = 'rgba(51,79,217,0.8)' \n",
    "cPA = 'rgba(252,149,7,0.8)' \n",
    "cAPD= 'rgba(15,112,2,0.8)'\n",
    "# Specify the extent of every sequence set according to the figure above\n",
    "R1 = np.array([0,12],dtype=int)  # when A-S>0\n",
    "APD1 = np.array([12,18],dtype=int)  # when A-S<0 but increasing\n",
    "PA1 = np.array([18,28],dtype=int)  # when A-S <0 but decreasing\n",
    "R2 = np.array([28,42],dtype=int)\n",
    "APD2 = np.array([42,62],dtype=int)\n",
    "PA2 = np.array([62,76],dtype=int)\n",
    "R3 = np.array([76,94],dtype=int)\n",
    "APD3 = np.array([94,100],dtype=int)\n",
    "# Build the color list\n",
    "STcolors_AS = []\n",
    "for k in range(R1[0],R1[1]):\n",
    "    STcolors_AS.append(cR)\n",
    "for k in range(APD1[0],APD1[1]):\n",
    "    STcolors_AS.append(cAPD)\n",
    "for k in range(PA1[0],PA1[1]):\n",
    "    STcolors_AS.append(cPA)\n",
    "for k in range(R2[0],R2[1]):\n",
    "    STcolors_AS.append(cR)\n",
    "for k in range(APD2[0],APD2[1]):\n",
    "    STcolors_AS.append(cAPD)\n",
    "for k in range(PA2[0],PA2[1]):\n",
    "    STcolors_AS.append(cPA)\n",
    "for k in range(R3[0],R3[1]):\n",
    "    STcolors_AS.append(cR)\n",
    "for k in range(APD3[0],APD3[1]):\n",
    "    STcolors_AS.append(cAPD)"
   ]
  },
  {
   "cell_type": "code",
   "execution_count": null,
   "metadata": {
    "collapsed": false
   },
   "outputs": [],
   "source": [
    "strata.viewSectionST(width = 800, height = 500, cs = strat, colors = STcolors_AS, \n",
    "                     dnlay = 2, rangeX=[220000, 300000], rangeY=[-1050,-50], \n",
    "                     linesize = 0.5, title = 'Systems tract interpreted based on change of accommodation and sedimentation (AS)')"
   ]
  },
  {
   "cell_type": "markdown",
   "metadata": {
    "collapsed": true
   },
   "source": [
    "# Depositional environments\n",
    "\n",
    "We define different depositional environments (depositional facies) based on water depth when the strata are deposited. For example,\n",
    "\n",
    "- **alluvial plain**:   30m above sea level\n",
    "- **shoreface**:        0 - 50m below sea level\n",
    "- **shallow marine**:   50 - 200m below sea level\n",
    "- **slope**:            200 - 400m below sea level\n",
    "- **deep marine**:      400 - 600m below sea level\n",
    "- **ocean basin**:      > 600m below sea level"
   ]
  },
  {
   "cell_type": "code",
   "execution_count": null,
   "metadata": {
    "collapsed": true
   },
   "outputs": [],
   "source": [
    "# help(strata.depthID)"
   ]
  },
  {
   "cell_type": "code",
   "execution_count": null,
   "metadata": {
    "collapsed": true
   },
   "outputs": [],
   "source": [
    "envIDs = [-30, 0, 50, 200, 400, 600]  # water depth relative to sea level, positive means below sea level\n",
    "waterIDs = np.zeros((len(envIDs), nbout))\n",
    "for i in range(0,nbout):\n",
    "    waterIDs[:,i] = strata.depthID(cs = strat_all[i], sealevel = Sealevel[i], envIDs = envIDs)"
   ]
  },
  {
   "cell_type": "code",
   "execution_count": null,
   "metadata": {
    "collapsed": true
   },
   "outputs": [],
   "source": [
    "fig = plt.figure(figsize = (8,4))\n",
    "plt.rc(\"font\", size=14)\n",
    "# \n",
    "ax = fig.add_subplot(111)\n",
    "layID = []\n",
    "p = 0\n",
    "color = ['limegreen','darkkhaki','sandybrown','khaki','c']\n",
    "xi00 = strat.dist/1000  # change the unit to be be km\n",
    "for i in range(0,strat.nz+1,dn):\n",
    "    if i == strat.nz:\n",
    "        i = strat.nz-1\n",
    "    layID.append(i)\n",
    "    if len(layID) > 1:\n",
    "        for j in range(0,int(np.amax(xi00))):\n",
    "            if (j<waterIDs[0][i/dn]):\n",
    "                plt.fill_between([xi00[j],xi00[j+1]], [strat.secDep[layID[p-1]][j], strat.secDep[layID[p-1]][j+1]], color='limegreen')\n",
    "            elif (j<waterIDs[1][i/dn]):\n",
    "                plt.fill_between([xi00[j],xi00[j+1]], [strat.secDep[layID[p-1]][j], strat.secDep[layID[p-1]][j+1]], color=color[0])\n",
    "            elif (j<waterIDs[2][i/dn]):\n",
    "                plt.fill_between([xi00[j],xi00[j+1]], [strat.secDep[layID[p-1]][j], strat.secDep[layID[p-1]][j+1]], color=color[1])\n",
    "            elif (j<waterIDs[3][i/dn]):\n",
    "                plt.fill_between([xi00[j],xi00[j+1]], [strat.secDep[layID[p-1]][j], strat.secDep[layID[p-1]][j+1]], color=color[2])\n",
    "            elif (j<waterIDs[4][i/dn]):\n",
    "                plt.fill_between([xi00[j],xi00[j+1]], [strat.secDep[layID[p-1]][j], strat.secDep[layID[p-1]][j+1]], color=color[3])\n",
    "            elif (j<waterIDs[5][i/dn]):\n",
    "                plt.fill_between([xi00[j],xi00[j+1]], [strat.secDep[layID[p-1]][j], strat.secDep[layID[p-1]][j+1]], color=color[4])\n",
    "            else:\n",
    "                plt.fill_between([xi00[j],xi00[j+1]], [strat.secDep[layID[p-1]][j], strat.secDep[layID[p-1]][j+1]], color='teal')\n",
    "                plt.fill_between(xi00, strat.secDep[layID[p]], 0, color='white')\n",
    "    p=p+1\n",
    "    plt.plot(xi00,strat.secDep[i],'-',color='k',linewidth=0.3)\n",
    "#       \n",
    "plt.plot(xi00,strat.secDep[strat.nz-1],'-',color='k',linewidth=0.7)\n",
    "plt.plot(xi00,strat.secDep[0],'-',color='k',linewidth=0.7)\n",
    "plt.ylabel('Elevation (m)',fontsize=14)\n",
    "plt.xlabel('Distance (km)',fontsize=14)\n",
    "plt.xlim( 220, 300 ) \n",
    "plt.ylim( -1050, -50 )\n",
    "ax.spines['right'].set_color('none')\n",
    "ax.spines['top'].set_color('none')\n",
    "ax.xaxis.set_ticks_position('bottom')\n",
    "ax.yaxis.set_ticks_position('left')\n",
    "plt.show()\n",
    "#fig.savefig(\"/workspace/volume/figure/stacking.png\", dpi=400)"
   ]
  },
  {
   "cell_type": "markdown",
   "metadata": {},
   "source": [
    "# Wheeler Diagram\n",
    "\n",
    "Wheeler diagram (or chronostratigraphic chart) is a powerful tool to document unconformities between sequences, and to understand the stacking patterns of sedimentary successions and their relationship to sea level. It displays the horizontal distribution of contemporaneous sedimentary layer sequences, as well as hiatuses in sedimentation. \n",
    "\n",
    "In addition to present the horizontal distribution of depositional environments, we also display the shoreline trajectory."
   ]
  },
  {
   "cell_type": "code",
   "execution_count": null,
   "metadata": {
    "collapsed": true
   },
   "outputs": [],
   "source": [
    "# help(strata.depthIDs)"
   ]
  },
  {
   "cell_type": "code",
   "execution_count": null,
   "metadata": {
    "collapsed": true
   },
   "outputs": [],
   "source": [
    "envi = np.append(waterIDs, [depoend], axis=0)"
   ]
  },
  {
   "cell_type": "code",
   "execution_count": null,
   "metadata": {
    "collapsed": true
   },
   "outputs": [],
   "source": [
    "fig = plt.figure(figsize = (8,4))\n",
    "plt.rc(\"font\", size=14)\n",
    "# \n",
    "# xmin = np.amin(envi[0,:])-10\n",
    "# xmax = np.amax(envi[envi.shape[0]-1,:])+10\n",
    "# \n",
    "Time_new = [x/1e6 for x in Time]  # change the unit to be Myr\n",
    "color = ['limegreen','darkkhaki','sandybrown','khaki','c', 'teal', 'white']\n",
    "patch_handles = []\n",
    "for i, d in enumerate(envi):\n",
    "    patch_handles.append(plt.barh(Time_new, d, \n",
    "    color=color[i], align='edge', left=d, height=dn/10., edgecolor = \"none\"))\n",
    "for j in range(0,nbout,1):\n",
    "    plt.axhline(Time_new[j], color='k', linewidth=0.5)\n",
    "plt.plot(shoreID, Time_new,'ko',markersize=3)\n",
    "plt.xlim([200, 300])\n",
    "plt.ylim([-0.2,10.2])\n",
    "# plt.grid(True)\n",
    "plt.yticks([0, 5, 10])\n",
    "plt.xlabel('Distance (km)',fontsize=14)\n",
    "plt.xticks(fontsize=14)\n",
    "plt.ylabel('Time (Myr)',fontsize=14)\n",
    "plt.yticks(fontsize=14)\n",
    "plt.show()\n",
    "#fig.savefig(\"/workspace/volume/figure/wheelerDiag.png\", dpi=400)"
   ]
  },
  {
   "cell_type": "markdown",
   "metadata": {},
   "source": [
    "# Vertical stacking pattern\n",
    "\n",
    "Vertical stacking patterns (synthetic wells) could also be extracted at different positions to show the thickness of parasequences and the trend of depositional units through time.\n",
    "\n",
    "To extract the vertical staking, first we need to calculate the stacked strata thickness at each position, then color the strata according to the water depth when they are deposited."
   ]
  },
  {
   "cell_type": "code",
   "execution_count": null,
   "metadata": {
    "collapsed": true
   },
   "outputs": [],
   "source": [
    "posit = [230, 240, 250, 260, 270]  # position of wells /km\n",
    "envIDs_new = [-30, 0, 50, 200, 400, 600, 1200]\n",
    "color_new = ['white','limegreen','darkkhaki','sandybrown','khaki','c', 'teal']"
   ]
  },
  {
   "cell_type": "code",
   "execution_count": null,
   "metadata": {
    "collapsed": true
   },
   "outputs": [],
   "source": [
    "def vStack(cs = None, posit = None, envIDs = None, color = None, nbout = None, dn = None):\n",
    "    color_fill = []\n",
    "    for i in range(len(posit)):\n",
    "        for j in range(0,cs.nz,dn):\n",
    "            if ((cs.secElev[j][posit[i]]) > (- envIDs[0])):\n",
    "                color_fill.append(color[0])\n",
    "            elif (cs.secElev[j][posit[i]]) > (- envIDs[1]):\n",
    "                color_fill.append(color[1])\n",
    "            elif (cs.secElev[j][posit[i]]) > (- envIDs[2]):\n",
    "                color_fill.append(color[2])\n",
    "            elif (cs.secElev[j][posit[i]]) > (- envIDs[3]):\n",
    "                color_fill.append(color[3])\n",
    "            elif (cs.secElev[j][posit[i]]) > (- envIDs[4]):\n",
    "                color_fill.append(color[4])\n",
    "            elif (cs.secElev[j][posit[i]]) > (- envIDs[5]):\n",
    "                color_fill.append(color[5])\n",
    "            else:\n",
    "                color_fill.append(color[6])          \n",
    "    #\n",
    "    layth = []\n",
    "    for m in range(len(posit)):\n",
    "        nz = cs.nz-1\n",
    "        layth.append(cs.secDep[nz][posit[m]])\n",
    "        for n in range(1,nbout-1):\n",
    "            layth.append(-sum(cs.secTh[(nz-n*dn):(nz-(n-1)*dn)])[posit[m]])\n",
    "    #\n",
    "    colorFill = np.reshape(color_fill, (len(posit), nbout-1))\n",
    "    layTh = np.reshape(layth, (len(posit), nbout-1))\n",
    "    \n",
    "    return colorFill, layTh"
   ]
  },
  {
   "cell_type": "code",
   "execution_count": null,
   "metadata": {
    "collapsed": true
   },
   "outputs": [],
   "source": [
    "colorFill, layTh = vStack(cs = strat, posit = posit, envIDs = envIDs_new, color = color_new, nbout = nbout, dn = dn)"
   ]
  },
  {
   "cell_type": "code",
   "execution_count": null,
   "metadata": {
    "collapsed": true
   },
   "outputs": [],
   "source": [
    "import matplotlib as mpl\n",
    "fig = plt.figure(figsize = (4,5))\n",
    "plt.rc(\"font\", size=10)\n",
    "# \n",
    "ax = fig.add_axes([0.2,0.06,0.82,0.91])\n",
    "data = layTh\n",
    "bottom1 = np.cumsum(data[0], axis=0)\n",
    "colors_1 = np.fliplr([colorFill[0]])[0]\n",
    "plt.bar(0, data[0][0], color = 'w', edgecolor='lightgrey', hatch = '/')\n",
    "for j in range(1, data[0].shape[0]):\n",
    "    plt.bar(0, data[0][j], color=colors_1[j], bottom=bottom1[j-1])\n",
    "# \n",
    "bottom2 = np.cumsum(data[1], axis=0)\n",
    "colors_2 = np.fliplr([colorFill[1]])[0]\n",
    "plt.bar(2, data[1][0], color = 'w', edgecolor='lightgrey', hatch = '/')\n",
    "for j in range(1, data[1].shape[0]):\n",
    "    plt.bar(2, data[1][j], color=colors_2[j], bottom=bottom2[j-1])\n",
    "# \n",
    "bottom3 = np.cumsum(data[2], axis=0)\n",
    "colors_3 = np.fliplr([colorFill[2]])[0]\n",
    "plt.bar(4, data[2][0], color = 'w', edgecolor='lightgrey', hatch = '/')\n",
    "for j in range(1, data[2].shape[0]):\n",
    "    plt.bar(4, data[2][j], color=colors_3[j], bottom=bottom3[j-1])\n",
    "#\n",
    "bottom4 = np.cumsum(data[3], axis=0)\n",
    "colors_4 = np.fliplr([colorFill[3]])[0]\n",
    "plt.bar(6, data[3][0], color = 'w', edgecolor='lightgrey', hatch = '/')\n",
    "for j in range(1, data[3].shape[0]):\n",
    "    plt.bar(6, data[3][j], color=colors_4[j], bottom=bottom4[j-1])\n",
    "#\n",
    "bottom5 = np.cumsum(data[4], axis=0)\n",
    "colors_5 = np.fliplr([colorFill[4]])[0]\n",
    "plt.bar(8, data[4][0], color = 'w', edgecolor='lightgrey', hatch = '/')\n",
    "for j in range(1, data[4].shape[0]):\n",
    "    plt.bar(8, data[4][j], color=colors_5[j], bottom=bottom5[j-1])\n",
    "#\n",
    "ax.spines['right'].set_color('none')\n",
    "ax.spines['top'].set_color('none')\n",
    "ax.spines['bottom'].set_color('none')\n",
    "ax.axes.get_xaxis().set_visible(False)\n",
    "ax.tick_params(axis='both', labelsize=10)\n",
    "ax.yaxis.set_ticks_position('left')\n",
    "plt.xlim(0,10)\n",
    "plt.ylim(-800,0)\n",
    "plt.ylabel('Elevation (m)',fontsize=12)\n",
    "plt.yticks(fontsize=12)\n",
    "plt.show()\n",
    "#fig.savefig(\"/workspace/volume/figure/well.png\", dpi=400)"
   ]
  },
  {
   "cell_type": "code",
   "execution_count": null,
   "metadata": {
    "collapsed": true
   },
   "outputs": [],
   "source": []
  },
  {
   "cell_type": "code",
   "execution_count": null,
   "metadata": {
    "collapsed": true
   },
   "outputs": [],
   "source": []
  }
 ],
 "metadata": {
  "anaconda-cloud": {},
  "kernelspec": {
   "display_name": "Python 2",
   "language": "python",
   "name": "python2"
  },
  "language_info": {
   "codemirror_mode": {
    "name": "ipython",
    "version": 2
   },
   "file_extension": ".py",
   "mimetype": "text/x-python",
   "name": "python",
   "nbconvert_exporter": "python",
   "pygments_lexer": "ipython2",
   "version": "2.7.6"
  }
 },
 "nbformat": 4,
 "nbformat_minor": 1
}
