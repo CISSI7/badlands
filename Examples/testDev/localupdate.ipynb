{
 "cells": [
  {
   "cell_type": "markdown",
   "metadata": {},
   "source": [
    "# Build local directory libraries"
   ]
  },
  {
   "cell_type": "code",
   "execution_count": null,
   "metadata": {
    "collapsed": false
   },
   "outputs": [],
   "source": [
    "!cd /workspace/volume/pyBadlands/pyBadlands/libUtils/; make clean"
   ]
  },
  {
   "cell_type": "code",
   "execution_count": 80,
   "metadata": {
    "collapsed": false
   },
   "outputs": [
    {
     "name": "stdout",
     "output_type": "stream",
     "text": [
      "f2py --fcompiler=gfortran  -c -m PDalgo PDalgo.f90\n",
      "Unknown vendor: \"gfortran\"\n",
      "\u001b[39mrunning build\u001b[0m\n",
      "\u001b[39mrunning config_cc\u001b[0m\n",
      "\u001b[39munifing config_cc, config, build_clib, build_ext, build commands --compiler options\u001b[0m\n",
      "\u001b[39mrunning config_fc\u001b[0m\n",
      "\u001b[39munifing config_fc, config, build_clib, build_ext, build commands --fcompiler options\u001b[0m\n",
      "\u001b[39mrunning build_src\u001b[0m\n",
      "\u001b[39mbuild_src\u001b[0m\n",
      "\u001b[39mbuilding extension \"PDalgo\" sources\u001b[0m\n",
      "\u001b[39mf2py options: []\u001b[0m\n",
      "\u001b[39mf2py:> /tmp/tmpWkd4cl/src.linux-x86_64-2.7/PDalgomodule.c\u001b[0m\n",
      "\u001b[39mcreating /tmp/tmpWkd4cl/src.linux-x86_64-2.7\u001b[0m\n",
      "Reading fortran codes...\n",
      "\tReading file 'PDalgo.f90' (format:free)\n",
      "Post-processing...\n",
      "\tBlock: PDalgo\n",
      "\t\t\tBlock: pdcompute\n",
      "\t\t\t\tBlock: filling\n",
      "\t\t\tBlock: pdstack\n",
      "\t\t\t\tBlock: initialisepd\n",
      "\t\t\t\tBlock: fillpd\n",
      "\t\t\t\tBlock: pitparams\n",
      "\t\t\t\tBlock: pitfilling\n",
      "Post-processing (stage 2)...\n",
      "\tBlock: PDalgo\n",
      "\t\tBlock: unknown_interface\n",
      "\t\t\tBlock: pdcompute\n",
      "\t\t\t\tBlock: filling\n",
      "\t\t\tBlock: pdstack\n",
      "\t\t\t\tBlock: initialisepd\n",
      "\t\t\t\tBlock: fillpd\n",
      "\t\t\t\tBlock: pitparams\n",
      "\t\t\t\tBlock: pitfilling\n",
      "Building modules...\n",
      "\tBuilding module \"PDalgo\"...\n",
      "\t\tConstructing F90 module support for \"pdcompute\"...\n",
      "\t\t\tConstructing wrapper function \"pdcompute.filling\"...\n",
      "\t\t\t  demh = filling(elevation,pyngbs,fillth,epsilon,pybounds,sealimit,[pydnodes])\n",
      "\t\tConstructing F90 module support for \"pdstack\"...\n",
      "\t\t  Variables: s2 s1 eps neighbours fill_th bds block_size data1 data2\n",
      "getarrdims:warning: assumed shape array, using 0 instead of ':'\n",
      "getarrdims:warning: assumed shape array, using 0 instead of ':'\n",
      "getarrdims:warning: assumed shape array, using 0 instead of ':'\n",
      "getarrdims:warning: assumed shape array, using 0 instead of ':'\n",
      "\t\t\tConstructing wrapper function \"pdstack.initialisepd\"...\n",
      "\t\t\t  initialisepd(elevation,demh,sealimit,[pydnodes])\n",
      "\t\t\tConstructing wrapper function \"pdstack.fillpd\"...\n",
      "\t\t\t  fillpd(elevation,demh,[pydnodes])\n",
      "\t\t\tConstructing wrapper function \"pdstack.pitparams\"...\n",
      "\t\t\t  pitparams(pyngbs,fillth,epsilon,pybounds,[pydnodes])\n",
      "\t\t\tConstructing wrapper function \"pdstack.pitfilling\"...\n",
      "\t\t\t  demh = pitfilling(elevation,sealimit,[pydnodes])\n",
      "\tWrote C/API module \"PDalgo\" to file \"/tmp/tmpWkd4cl/src.linux-x86_64-2.7/PDalgomodule.c\"\n",
      "\tFortran 90 wrappers are saved to \"/tmp/tmpWkd4cl/src.linux-x86_64-2.7/PDalgo-f2pywrappers2.f90\"\n",
      "\u001b[39m  adding '/tmp/tmpWkd4cl/src.linux-x86_64-2.7/fortranobject.c' to sources.\u001b[0m\n",
      "\u001b[39m  adding '/tmp/tmpWkd4cl/src.linux-x86_64-2.7' to include_dirs.\u001b[0m\n",
      "\u001b[39mcopying /usr/local/lib/python2.7/dist-packages/numpy/f2py/src/fortranobject.c -> /tmp/tmpWkd4cl/src.linux-x86_64-2.7\u001b[0m\n",
      "\u001b[39mcopying /usr/local/lib/python2.7/dist-packages/numpy/f2py/src/fortranobject.h -> /tmp/tmpWkd4cl/src.linux-x86_64-2.7\u001b[0m\n",
      "\u001b[39m  adding '/tmp/tmpWkd4cl/src.linux-x86_64-2.7/PDalgo-f2pywrappers2.f90' to sources.\u001b[0m\n",
      "\u001b[39mbuild_src: building npy-pkg config files\u001b[0m\n",
      "\u001b[39mrunning build_ext\u001b[0m\n",
      "\u001b[39mcustomize UnixCCompiler\u001b[0m\n",
      "\u001b[39mcustomize UnixCCompiler using build_ext\u001b[0m\n",
      "\u001b[39mcustomize Gnu95FCompiler\u001b[0m\n",
      "\u001b[39mFound executable /usr/bin/gfortran\u001b[0m\n",
      "\u001b[39mcustomize Gnu95FCompiler using build_ext\u001b[0m\n",
      "\u001b[39mbuilding 'PDalgo' extension\u001b[0m\n",
      "\u001b[39mcompiling C sources\u001b[0m\n",
      "\u001b[39mC compiler: x86_64-linux-gnu-gcc -pthread -fno-strict-aliasing -DNDEBUG -g -fwrapv -O2 -Wall -Wstrict-prototypes -fPIC\n",
      "\u001b[0m\n",
      "\u001b[39mcreating /tmp/tmpWkd4cl/tmp\u001b[0m\n",
      "\u001b[39mcreating /tmp/tmpWkd4cl/tmp/tmpWkd4cl\u001b[0m\n",
      "\u001b[39mcreating /tmp/tmpWkd4cl/tmp/tmpWkd4cl/src.linux-x86_64-2.7\u001b[0m\n",
      "\u001b[39mcompile options: '-I/tmp/tmpWkd4cl/src.linux-x86_64-2.7 -I/usr/local/lib/python2.7/dist-packages/numpy/core/include -I/usr/include/python2.7 -c'\u001b[0m\n",
      "\u001b[39mx86_64-linux-gnu-gcc: /tmp/tmpWkd4cl/src.linux-x86_64-2.7/fortranobject.c\u001b[0m\n",
      "In file included from /usr/local/lib/python2.7/dist-packages/numpy/core/include/numpy/ndarraytypes.h:1777:0,\n",
      "                 from /usr/local/lib/python2.7/dist-packages/numpy/core/include/numpy/ndarrayobject.h:18,\n",
      "                 from /usr/local/lib/python2.7/dist-packages/numpy/core/include/numpy/arrayobject.h:4,\n",
      "                 from /tmp/tmpWkd4cl/src.linux-x86_64-2.7/fortranobject.h:13,\n",
      "                 from /tmp/tmpWkd4cl/src.linux-x86_64-2.7/fortranobject.c:2:\n",
      "/usr/local/lib/python2.7/dist-packages/numpy/core/include/numpy/npy_1_7_deprecated_api.h:15:2: warning: #warning \"Using deprecated NumPy API, disable it by \" \"#defining NPY_NO_DEPRECATED_API NPY_1_7_API_VERSION\" [-Wcpp]\n",
      " #warning \"Using deprecated NumPy API, disable it by \" \\\n",
      "  ^\n",
      "\u001b[39mx86_64-linux-gnu-gcc: /tmp/tmpWkd4cl/src.linux-x86_64-2.7/PDalgomodule.c\u001b[0m\n",
      "In file included from /usr/local/lib/python2.7/dist-packages/numpy/core/include/numpy/ndarraytypes.h:1777:0,\n",
      "                 from /usr/local/lib/python2.7/dist-packages/numpy/core/include/numpy/ndarrayobject.h:18,\n",
      "                 from /usr/local/lib/python2.7/dist-packages/numpy/core/include/numpy/arrayobject.h:4,\n",
      "                 from /tmp/tmpWkd4cl/src.linux-x86_64-2.7/fortranobject.h:13,\n",
      "                 from /tmp/tmpWkd4cl/src.linux-x86_64-2.7/PDalgomodule.c:19:\n",
      "/usr/local/lib/python2.7/dist-packages/numpy/core/include/numpy/npy_1_7_deprecated_api.h:15:2: warning: #warning \"Using deprecated NumPy API, disable it by \" \"#defining NPY_NO_DEPRECATED_API NPY_1_7_API_VERSION\" [-Wcpp]\n",
      " #warning \"Using deprecated NumPy API, disable it by \" \\\n",
      "  ^\n",
      "/tmp/tmpWkd4cl/src.linux-x86_64-2.7/PDalgomodule.c: In function 'f2py_setup_pdstack':\n",
      "/tmp/tmpWkd4cl/src.linux-x86_64-2.7/PDalgomodule.c:902:35: warning: assignment from incompatible pointer type [enabled by default]\n",
      "   f2py_pdstack_def[i_f2py++].func = neighbours;\n",
      "                                   ^\n",
      "/tmp/tmpWkd4cl/src.linux-x86_64-2.7/PDalgomodule.c:906:35: warning: assignment from incompatible pointer type [enabled by default]\n",
      "   f2py_pdstack_def[i_f2py++].func = data1;\n",
      "                                   ^\n",
      "/tmp/tmpWkd4cl/src.linux-x86_64-2.7/PDalgomodule.c:907:35: warning: assignment from incompatible pointer type [enabled by default]\n",
      "   f2py_pdstack_def[i_f2py++].func = data2;\n",
      "                                   ^\n",
      "/tmp/tmpWkd4cl/src.linux-x86_64-2.7/PDalgomodule.c: At top level:\n",
      "/tmp/tmpWkd4cl/src.linux-x86_64-2.7/PDalgomodule.c:112:12: warning: 'f2py_size' defined but not used [-Wunused-function]\n",
      " static int f2py_size(PyArrayObject* var, ...)\n",
      "            ^\n",
      "\u001b[39mcompiling Fortran 90 module sources\u001b[0m\n",
      "\u001b[39mFortran f77 compiler: /usr/bin/gfortran -Wall -g -ffixed-form -fno-second-underscore -fPIC -O3 -funroll-loops\n",
      "Fortran f90 compiler: /usr/bin/gfortran -Wall -g -fno-second-underscore -fPIC -O3 -funroll-loops\n",
      "Fortran fix compiler: /usr/bin/gfortran -Wall -g -ffixed-form -fno-second-underscore -Wall -g -fno-second-underscore -fPIC -O3 -funroll-loops\u001b[0m\n",
      "\u001b[39mcompile options: '-I/tmp/tmpWkd4cl/src.linux-x86_64-2.7 -I/usr/local/lib/python2.7/dist-packages/numpy/core/include -I/usr/include/python2.7 -c'\n",
      "extra options: '-J/tmp/tmpWkd4cl/ -I/tmp/tmpWkd4cl/'\u001b[0m\n",
      "\u001b[39mgfortran:f90: PDalgo.f90\u001b[0m\n",
      "\u001b[39mcompiling Fortran sources\u001b[0m\n",
      "\u001b[39mFortran f77 compiler: /usr/bin/gfortran -Wall -g -ffixed-form -fno-second-underscore -fPIC -O3 -funroll-loops\n",
      "Fortran f90 compiler: /usr/bin/gfortran -Wall -g -fno-second-underscore -fPIC -O3 -funroll-loops\n",
      "Fortran fix compiler: /usr/bin/gfortran -Wall -g -ffixed-form -fno-second-underscore -Wall -g -fno-second-underscore -fPIC -O3 -funroll-loops\u001b[0m\n",
      "\u001b[39mcompile options: '-I/tmp/tmpWkd4cl/src.linux-x86_64-2.7 -I/usr/local/lib/python2.7/dist-packages/numpy/core/include -I/usr/include/python2.7 -c'\n",
      "extra options: '-J/tmp/tmpWkd4cl/ -I/tmp/tmpWkd4cl/'\u001b[0m\n",
      "\u001b[39mgfortran:f90: /tmp/tmpWkd4cl/src.linux-x86_64-2.7/PDalgo-f2pywrappers2.f90\u001b[0m\n",
      "/tmp/tmpWkd4cl/src.linux-x86_64-2.7/PDalgo-f2pywrappers2.f90:104.10:\n",
      "\n",
      "      use pdstack, only : s2\n",
      "          1\n",
      "Warning: Unused module variable 'data1' which has been explicitly imported at (1)\n",
      "/tmp/tmpWkd4cl/src.linux-x86_64-2.7/PDalgo-f2pywrappers2.f90:104.10:\n",
      "\n",
      "      use pdstack, only : s2\n",
      "          1\n",
      "Warning: Unused module variable 'data2' which has been explicitly imported at (1)\n",
      "/tmp/tmpWkd4cl/src.linux-x86_64-2.7/PDalgo-f2pywrappers2.f90:104.10:\n",
      "\n",
      "      use pdstack, only : s2\n",
      "          1\n",
      "Warning: Unused module variable 'neighbours' which has been explicitly imported at (1)\n",
      "\u001b[39m/usr/bin/gfortran -Wall -g -Wall -g -shared /tmp/tmpWkd4cl/tmp/tmpWkd4cl/src.linux-x86_64-2.7/PDalgomodule.o /tmp/tmpWkd4cl/tmp/tmpWkd4cl/src.linux-x86_64-2.7/fortranobject.o /tmp/tmpWkd4cl/PDalgo.o /tmp/tmpWkd4cl/tmp/tmpWkd4cl/src.linux-x86_64-2.7/PDalgo-f2pywrappers2.o -lgfortran -o ./PDalgo.so\u001b[0m\n",
      "Removing build directory /tmp/tmpWkd4cl\n",
      "gfortran -shared -O2 -fPIC -o libFLOWstack.so FLOWstack.f90\n",
      "gfortran -shared -O2 -fPIC -o libFVclass.so FVclass.f90\n",
      "gfortran -shared -O2 -fPIC -o libORclass.so ORclass.f90\n",
      "\n",
      "\n",
      "---------------------------------------------\n",
      "\n",
      "\n",
      "Set the library path in your ~/.bashrc file\n",
      "Add the following to LD_LIBRARY_PATH and PYTHON_PATH: \n",
      "/workspace/volume/pyBadlands/pyBadlands/libUtils\n",
      "\n",
      "Alternatively use a symbolic link\n",
      "ln -s /workspace/volume/pyBadlands/pyBadlands/libUtils ~/.python\n",
      "\n",
      "\n",
      "---------------------------------------------\n",
      "\n",
      "\n"
     ]
    }
   ],
   "source": [
    "!cd /workspace/volume/pyBadlands/pyBadlands/libUtils/; make"
   ]
  },
  {
   "cell_type": "markdown",
   "metadata": {},
   "source": [
    "# Install local badlands model on the container"
   ]
  },
  {
   "cell_type": "code",
   "execution_count": null,
   "metadata": {
    "collapsed": false
   },
   "outputs": [],
   "source": [
    "!cd /workspace/volume/pyBadlands/pyBadlands/libUtils/; pip install -e /workspace/volume/pyBadlands/"
   ]
  },
  {
   "cell_type": "code",
   "execution_count": 81,
   "metadata": {
    "collapsed": false
   },
   "outputs": [
    {
     "name": "stdout",
     "output_type": "stream",
     "text": [
      "Listing . ...\n",
      "Listing ./flow ...\n",
      "Listing ./forcing ...\n",
      "Listing ./hillslope ...\n",
      "Listing ./libUtils ...\n",
      "Compiling ./model.py ...\n",
      "Listing ./surface ...\n",
      "Compiling ./surface/elevationTIN.py ...\n"
     ]
    }
   ],
   "source": [
    "!cd /workspace/volume/pyBadlands/pyBadlands/; python -m compileall ."
   ]
  },
  {
   "cell_type": "code",
   "execution_count": null,
   "metadata": {
    "collapsed": false
   },
   "outputs": [],
   "source": [
    "!pip install ez_setup"
   ]
  },
  {
   "cell_type": "code",
   "execution_count": null,
   "metadata": {
    "collapsed": false
   },
   "outputs": [],
   "source": [
    "!pip install gFlex"
   ]
  },
  {
   "cell_type": "code",
   "execution_count": null,
   "metadata": {
    "collapsed": true
   },
   "outputs": [],
   "source": []
  }
 ],
 "metadata": {
  "kernelspec": {
   "display_name": "Python 2",
   "language": "python",
   "name": "python2"
  },
  "language_info": {
   "codemirror_mode": {
    "name": "ipython",
    "version": 2
   },
   "file_extension": ".py",
   "mimetype": "text/x-python",
   "name": "python",
   "nbconvert_exporter": "python",
   "pygments_lexer": "ipython2",
   "version": "2.7.6"
  }
 },
 "nbformat": 4,
 "nbformat_minor": 0
}
